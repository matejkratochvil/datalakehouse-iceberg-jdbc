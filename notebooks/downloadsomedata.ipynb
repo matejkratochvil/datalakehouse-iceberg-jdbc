{
 "cells": [
  {
   "cell_type": "code",
   "execution_count": null,
   "id": "5f163c21-62fc-4727-a672-313712e61822",
   "metadata": {},
   "outputs": [],
   "source": [
    "!wget https://api.energidataservice.dk/dataset/ConsumptionIndustry/download?offset=0&limit=0&format=json&sort=HourUTC%20DESC"
   ]
  }
 ],
 "metadata": {
  "kernelspec": {
   "display_name": "Python 3 (ipykernel)",
   "language": "python",
   "name": "python3"
  },
  "language_info": {
   "codemirror_mode": {
    "name": "ipython",
    "version": 3
   },
   "file_extension": ".py",
   "mimetype": "text/x-python",
   "name": "python",
   "nbconvert_exporter": "python",
   "pygments_lexer": "ipython3",
   "version": "3.12.8"
  }
 },
 "nbformat": 4,
 "nbformat_minor": 5
}
