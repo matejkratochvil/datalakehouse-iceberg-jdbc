{
 "cells": [
  {
   "cell_type": "code",
   "execution_count": 1,
   "id": "b34a1833-6f96-4bbd-8049-22b69e6ac8be",
   "metadata": {
    "editable": true,
    "slideshow": {
     "slide_type": ""
    },
    "tags": []
   },
   "outputs": [
    {
     "ename": "Unknown Error",
     "evalue": "<console>:23: error: object iceberg is not a member of package org.apache\n       import org.apache.iceberg.aws.s3.S3FileIOProperties;\n                         ^\n<console>:27: error: object iceberg is not a member of package org.apache\n       import org.apache.iceberg.CatalogProperties;\n                         ^\n<console>:29: error: object iceberg is not a member of package org.apache\n       import org.apache.iceberg.jdbc.JdbcCatalog;\n                         ^\n<console>:30: error: object iceberg is not a member of package org.apache\n       import org.apache.iceberg.aws.s3.S3FileIOProperties;\n                         ^\n<console>:32: error: object iceberg is not a member of package org.apache\n       import org.apache.iceberg.Schema;\n                         ^\n<console>:33: error: object iceberg is not a member of package org.apache\n       import org.apache.iceberg.types.Types;\n                         ^\n",
     "output_type": "error",
     "traceback": []
    }
   ],
   "source": [
    "import org.apache.iceberg.aws.s3.S3FileIOProperties;\n",
    "\n",
    "import org.apache.hadoop.conf.Configuration;\n",
    "\n",
    "import org.apache.iceberg.CatalogProperties;\n",
    "\n",
    "import org.apache.iceberg.jdbc.JdbcCatalog;\n",
    "import org.apache.iceberg.aws.s3.S3FileIOProperties;\n",
    "\n",
    "import org.apache.iceberg.Schema;\n",
    "import org.apache.iceberg.types.Types;\n"
   ]
  },
  {
   "cell_type": "code",
   "execution_count": null,
   "id": "0f501212-2ea8-4c74-93bc-d0b6615cfecb",
   "metadata": {},
   "outputs": [],
   "source": []
  }
 ],
 "metadata": {
  "kernelspec": {
   "display_name": "Python 3 (ipykernel)",
   "language": "python",
   "name": "python3"
  },
  "language_info": {
   "codemirror_mode": {
    "name": "ipython",
    "version": 3
   },
   "file_extension": ".py",
   "mimetype": "text/x-python",
   "name": "python",
   "nbconvert_exporter": "python",
   "pygments_lexer": "ipython3",
   "version": "3.12.8"
  }
 },
 "nbformat": 4,
 "nbformat_minor": 5
}
